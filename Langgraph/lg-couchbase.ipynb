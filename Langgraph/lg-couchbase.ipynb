{
 "cells": [
  {
   "cell_type": "code",
   "execution_count": null,
   "id": "ac138f47",
   "metadata": {},
   "outputs": [],
   "source": [
    "pip install langchain-couchbase langchain_huggingface "
   ]
  },
  {
   "cell_type": "code",
   "execution_count": null,
   "id": "eb1abd4f",
   "metadata": {},
   "outputs": [],
   "source": [
    "# Load in Couchbase credentials\n",
    "from dotenv import load_dotenv\n",
    "import os\n",
    "load_dotenv()"
   ]
  },
  {
   "cell_type": "code",
   "execution_count": 3,
   "id": "4afccaf5",
   "metadata": {},
   "outputs": [],
   "source": [
    "# We create a connection to the Couchbase cluster and then pass cluster object to the Vector store\n",
    "\n",
    "from datetime import timedelta\n",
    "from couchbase.auth import PasswordAuthenticator\n",
    "from couchbase.cluster import Cluster\n",
    "from couchbase.options import ClusterOptions\n",
    "\n",
    "auth = PasswordAuthenticator(os.getenv(\"CB_USERNAME\"), os.getenv(\"CB_PASSWORD\"))\n",
    "options = ClusterOptions(auth)\n",
    "cluster = Cluster(os.getenv(\"CB_HOSTNAME\"), options)\n",
    "\n",
    "# Wait until cluster is ready to use\n",
    "cluster.wait_until_ready(timedelta(seconds=5))"
   ]
  },
  {
   "cell_type": "code",
   "execution_count": null,
   "id": "d3db430c",
   "metadata": {},
   "outputs": [],
   "source": [
    "# Set Bucket, Scope and Collection for vector search \n",
    "BUCKET = \n",
    "SCOPE = \n",
    "COLLECTION = \n",
    "SEARCH_INDEX = "
   ]
  },
  {
   "cell_type": "code",
   "execution_count": null,
   "id": "08196182",
   "metadata": {},
   "outputs": [],
   "source": [
    "# create vector store object, with cluster info and search index name\n",
    "\n",
    "from langchain_huggingface import HuggingFaceEmbeddings\n",
    "embeddings = HuggingFaceEmbeddings(model_name=\"all-MiniLM-L6-v2\")\n",
    "\n",
    "from langchain_couchbase.vectorstores import CouchbaseSearchVectorStore\n",
    "\n",
    "# Use CB as Vector Store\n",
    "vector_store = CouchbaseSearchVectorStore(\n",
    "    cluster = cluster,\n",
    "    bucket_name = BUCKET,\n",
    "    scope_name = SCOPE,\n",
    "    collection_name = COLLECTION,\n",
    "    embedding = embeddings,\n",
    "    index_name = SEARCH_INDEX,\n",
    "    text_key = # text field to embed: \"description\",\n",
    "    embedding_key = # field to store embeddings: \"embedding\",\n",
    ")"
   ]
  },
  {
   "cell_type": "code",
   "execution_count": null,
   "id": "36e5e986",
   "metadata": {},
   "outputs": [],
   "source": [
    "results = vector_store.similarity_search(\n",
    "    \"Search Query, return to most similar documents\",\n",
    "    k=2,\n",
    ")\n",
    "print(results)"
   ]
  },
  {
   "cell_type": "code",
   "execution_count": null,
   "id": "95ced66b",
   "metadata": {},
   "outputs": [],
   "source": [
    "# Load New Properties into Vector Store\n",
    "from uuid import uuid4\n",
    "from langchain_core.documents import Document\n",
    "\n",
    "property_one = Document(\n",
    "    page_content=\"I am a Document called One.\",\n",
    "    metadata={ }\n",
    ")\n",
    "\n",
    "property_two = Document(\n",
    "    page_content=\"I am a Document called Two.\",\n",
    "    metadata={ }\n",
    ")\n",
    "\n",
    "documents = [property_one, property_two]\n",
    "\n",
    "uuids = [str(uuid4()) for _ in range(len(documents))]\n",
    "\n",
    "vector_store.add_documents(documents=documents, ids=uuids)\n",
    "\n",
    "# delete from vector store\n",
    "# vector_store.delete(ids=[uuids[-1]])"
   ]
  },
  {
   "cell_type": "code",
   "execution_count": null,
   "id": "1fa95e8a",
   "metadata": {},
   "outputs": [],
   "source": [
    "# With similarity score\n",
    "results = vector_store.similarity_search_with_score(\n",
    "    \"Return Documents with a Similarity Score\",\n",
    "    k=2,\n",
    ")"
   ]
  }
 ],
 "metadata": {
  "kernelspec": {
   "display_name": "venv",
   "language": "python",
   "name": "python3"
  },
  "language_info": {
   "codemirror_mode": {
    "name": "ipython",
    "version": 3
   },
   "file_extension": ".py",
   "mimetype": "text/x-python",
   "name": "python",
   "nbconvert_exporter": "python",
   "pygments_lexer": "ipython3",
   "version": "3.13.3"
  }
 },
 "nbformat": 4,
 "nbformat_minor": 5
}
